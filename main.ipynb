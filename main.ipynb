{
 "metadata": {
  "language_info": {
   "codemirror_mode": {
    "name": "ipython",
    "version": 3
   },
   "file_extension": ".py",
   "mimetype": "text/x-python",
   "name": "python",
   "nbconvert_exporter": "python",
   "pygments_lexer": "ipython3",
   "version": "3.7.7-final"
  },
  "orig_nbformat": 2,
  "kernelspec": {
   "name": "python_defaultSpec_1601308955170",
   "display_name": "Python 3.6.9 64-bit"
  }
 },
 "nbformat": 4,
 "nbformat_minor": 2,
 "cells": [
  {
   "cell_type": "code",
   "execution_count": 2,
   "metadata": {},
   "outputs": [],
   "source": [
    "import pandas as pd\n",
    "import json"
   ]
  },
  {
   "cell_type": "code",
   "execution_count": 3,
   "metadata": {},
   "outputs": [
    {
     "output_type": "execute_result",
     "data": {
      "text/plain": "   id  season       city      date                        team1  \\\n0   1    2017  Hyderabad  5/4/2017          Sunrisers Hyderabad   \n1   2    2017       Pune  6/4/2017               Mumbai Indians   \n2   3    2017     Rajkot  7/4/2017                Gujarat Lions   \n3   4    2017     Indore  8/4/2017       Rising Pune Supergiant   \n4   5    2017  Bangalore  8/4/2017  Royal Challengers Bangalore   \n\n                         team2                  toss_winner toss_decision  \\\n0  Royal Challengers Bangalore  Royal Challengers Bangalore         field   \n1       Rising Pune Supergiant       Rising Pune Supergiant         field   \n2        Kolkata Knight Riders        Kolkata Knight Riders         field   \n3              Kings XI Punjab              Kings XI Punjab         field   \n4             Delhi Daredevils  Royal Challengers Bangalore           bat   \n\n   result  dl_applied                       winner  win_by_runs  \\\n0  normal           0          Sunrisers Hyderabad           35   \n1  normal           0       Rising Pune Supergiant            0   \n2  normal           0        Kolkata Knight Riders            0   \n3  normal           0              Kings XI Punjab            0   \n4  normal           0  Royal Challengers Bangalore           15   \n\n   win_by_wickets player_of_match                                      venue  \\\n0               0    Yuvraj Singh  Rajiv Gandhi International Stadium, Uppal   \n1               7       SPD Smith    Maharashtra Cricket Association Stadium   \n2              10         CA Lynn     Saurashtra Cricket Association Stadium   \n3               6      GJ Maxwell                     Holkar Cricket Stadium   \n4               0       KM Jadhav                      M Chinnaswamy Stadium   \n\n          umpire1        umpire2  umpire3  \n0     AY Dandekar       NJ Llong      NaN  \n1  A Nand Kishore         S Ravi      NaN  \n2     Nitin Menon      CK Nandan      NaN  \n3    AK Chaudhary  C Shamshuddin      NaN  \n4             NaN            NaN      NaN  ",
      "text/html": "<div>\n<style scoped>\n    .dataframe tbody tr th:only-of-type {\n        vertical-align: middle;\n    }\n\n    .dataframe tbody tr th {\n        vertical-align: top;\n    }\n\n    .dataframe thead th {\n        text-align: right;\n    }\n</style>\n<table border=\"1\" class=\"dataframe\">\n  <thead>\n    <tr style=\"text-align: right;\">\n      <th></th>\n      <th>id</th>\n      <th>season</th>\n      <th>city</th>\n      <th>date</th>\n      <th>team1</th>\n      <th>team2</th>\n      <th>toss_winner</th>\n      <th>toss_decision</th>\n      <th>result</th>\n      <th>dl_applied</th>\n      <th>winner</th>\n      <th>win_by_runs</th>\n      <th>win_by_wickets</th>\n      <th>player_of_match</th>\n      <th>venue</th>\n      <th>umpire1</th>\n      <th>umpire2</th>\n      <th>umpire3</th>\n    </tr>\n  </thead>\n  <tbody>\n    <tr>\n      <th>0</th>\n      <td>1</td>\n      <td>2017</td>\n      <td>Hyderabad</td>\n      <td>5/4/2017</td>\n      <td>Sunrisers Hyderabad</td>\n      <td>Royal Challengers Bangalore</td>\n      <td>Royal Challengers Bangalore</td>\n      <td>field</td>\n      <td>normal</td>\n      <td>0</td>\n      <td>Sunrisers Hyderabad</td>\n      <td>35</td>\n      <td>0</td>\n      <td>Yuvraj Singh</td>\n      <td>Rajiv Gandhi International Stadium, Uppal</td>\n      <td>AY Dandekar</td>\n      <td>NJ Llong</td>\n      <td>NaN</td>\n    </tr>\n    <tr>\n      <th>1</th>\n      <td>2</td>\n      <td>2017</td>\n      <td>Pune</td>\n      <td>6/4/2017</td>\n      <td>Mumbai Indians</td>\n      <td>Rising Pune Supergiant</td>\n      <td>Rising Pune Supergiant</td>\n      <td>field</td>\n      <td>normal</td>\n      <td>0</td>\n      <td>Rising Pune Supergiant</td>\n      <td>0</td>\n      <td>7</td>\n      <td>SPD Smith</td>\n      <td>Maharashtra Cricket Association Stadium</td>\n      <td>A Nand Kishore</td>\n      <td>S Ravi</td>\n      <td>NaN</td>\n    </tr>\n    <tr>\n      <th>2</th>\n      <td>3</td>\n      <td>2017</td>\n      <td>Rajkot</td>\n      <td>7/4/2017</td>\n      <td>Gujarat Lions</td>\n      <td>Kolkata Knight Riders</td>\n      <td>Kolkata Knight Riders</td>\n      <td>field</td>\n      <td>normal</td>\n      <td>0</td>\n      <td>Kolkata Knight Riders</td>\n      <td>0</td>\n      <td>10</td>\n      <td>CA Lynn</td>\n      <td>Saurashtra Cricket Association Stadium</td>\n      <td>Nitin Menon</td>\n      <td>CK Nandan</td>\n      <td>NaN</td>\n    </tr>\n    <tr>\n      <th>3</th>\n      <td>4</td>\n      <td>2017</td>\n      <td>Indore</td>\n      <td>8/4/2017</td>\n      <td>Rising Pune Supergiant</td>\n      <td>Kings XI Punjab</td>\n      <td>Kings XI Punjab</td>\n      <td>field</td>\n      <td>normal</td>\n      <td>0</td>\n      <td>Kings XI Punjab</td>\n      <td>0</td>\n      <td>6</td>\n      <td>GJ Maxwell</td>\n      <td>Holkar Cricket Stadium</td>\n      <td>AK Chaudhary</td>\n      <td>C Shamshuddin</td>\n      <td>NaN</td>\n    </tr>\n    <tr>\n      <th>4</th>\n      <td>5</td>\n      <td>2017</td>\n      <td>Bangalore</td>\n      <td>8/4/2017</td>\n      <td>Royal Challengers Bangalore</td>\n      <td>Delhi Daredevils</td>\n      <td>Royal Challengers Bangalore</td>\n      <td>bat</td>\n      <td>normal</td>\n      <td>0</td>\n      <td>Royal Challengers Bangalore</td>\n      <td>15</td>\n      <td>0</td>\n      <td>KM Jadhav</td>\n      <td>M Chinnaswamy Stadium</td>\n      <td>NaN</td>\n      <td>NaN</td>\n      <td>NaN</td>\n    </tr>\n  </tbody>\n</table>\n</div>"
     },
     "metadata": {},
     "execution_count": 3
    }
   ],
   "source": [
    "data = pd.read_csv(\"datasets.csv\")\n",
    "data.head()"
   ]
  },
  {
   "cell_type": "code",
   "execution_count": 4,
   "metadata": {
    "tags": []
   },
   "outputs": [
    {
     "output_type": "stream",
     "name": "stdout",
     "text": "<class 'pandas.core.frame.DataFrame'>\nRangeIndex: 636 entries, 0 to 635\nData columns (total 18 columns):\n #   Column           Non-Null Count  Dtype  \n---  ------           --------------  -----  \n 0   id               636 non-null    int64  \n 1   season           636 non-null    int64  \n 2   city             629 non-null    object \n 3   date             636 non-null    object \n 4   team1            636 non-null    object \n 5   team2            636 non-null    object \n 6   toss_winner      636 non-null    object \n 7   toss_decision    636 non-null    object \n 8   result           636 non-null    object \n 9   dl_applied       636 non-null    int64  \n 10  winner           633 non-null    object \n 11  win_by_runs      636 non-null    int64  \n 12  win_by_wickets   636 non-null    int64  \n 13  player_of_match  633 non-null    object \n 14  venue            636 non-null    object \n 15  umpire1          635 non-null    object \n 16  umpire2          635 non-null    object \n 17  umpire3          0 non-null      float64\ndtypes: float64(1), int64(5), object(12)\nmemory usage: 89.6+ KB\n"
    }
   ],
   "source": [
    "data.info()"
   ]
  },
  {
   "cell_type": "code",
   "execution_count": 5,
   "metadata": {},
   "outputs": [
    {
     "output_type": "execute_result",
     "data": {
      "text/plain": "      id  season city      date                        team1  \\\n461  462    2014  NaN  19/04/14               Mumbai Indians   \n462  463    2014  NaN  19/04/14        Kolkata Knight Riders   \n466  467    2014  NaN  23/04/14          Chennai Super Kings   \n468  469    2014  NaN  25/04/14          Sunrisers Hyderabad   \n469  470    2014  NaN  25/04/14               Mumbai Indians   \n474  475    2014  NaN  28/04/14  Royal Challengers Bangalore   \n476  477    2014  NaN  30/04/14          Sunrisers Hyderabad   \n\n                           team2                  toss_winner toss_decision  \\\n461  Royal Challengers Bangalore  Royal Challengers Bangalore         field   \n462             Delhi Daredevils        Kolkata Knight Riders           bat   \n466             Rajasthan Royals             Rajasthan Royals         field   \n468             Delhi Daredevils          Sunrisers Hyderabad           bat   \n469          Chennai Super Kings               Mumbai Indians           bat   \n474              Kings XI Punjab              Kings XI Punjab         field   \n476               Mumbai Indians               Mumbai Indians         field   \n\n     result  dl_applied                       winner  win_by_runs  \\\n461  normal           0  Royal Challengers Bangalore            0   \n462  normal           0             Delhi Daredevils            0   \n466  normal           0          Chennai Super Kings            7   \n468  normal           0          Sunrisers Hyderabad            4   \n469  normal           0          Chennai Super Kings            0   \n474  normal           0              Kings XI Punjab            0   \n476  normal           0          Sunrisers Hyderabad           15   \n\n     win_by_wickets player_of_match                                venue  \\\n461               7        PA Patel  Dubai International Cricket Stadium   \n462               4       JP Duminy  Dubai International Cricket Stadium   \n466               0       RA Jadeja  Dubai International Cricket Stadium   \n468               0        AJ Finch  Dubai International Cricket Stadium   \n469               7       MM Sharma  Dubai International Cricket Stadium   \n474               5  Sandeep Sharma  Dubai International Cricket Stadium   \n476               0         B Kumar  Dubai International Cricket Stadium   \n\n             umpire1         umpire2  umpire3  \n461        Aleem Dar    AK Chaudhary      NaN  \n462        Aleem Dar     VA Kulkarni      NaN  \n466  HDPK Dharmasena  RK Illingworth      NaN  \n468        M Erasmus          S Ravi      NaN  \n469        BF Bowden       M Erasmus      NaN  \n474        BF Bowden          S Ravi      NaN  \n476  HDPK Dharmasena       M Erasmus      NaN  ",
      "text/html": "<div>\n<style scoped>\n    .dataframe tbody tr th:only-of-type {\n        vertical-align: middle;\n    }\n\n    .dataframe tbody tr th {\n        vertical-align: top;\n    }\n\n    .dataframe thead th {\n        text-align: right;\n    }\n</style>\n<table border=\"1\" class=\"dataframe\">\n  <thead>\n    <tr style=\"text-align: right;\">\n      <th></th>\n      <th>id</th>\n      <th>season</th>\n      <th>city</th>\n      <th>date</th>\n      <th>team1</th>\n      <th>team2</th>\n      <th>toss_winner</th>\n      <th>toss_decision</th>\n      <th>result</th>\n      <th>dl_applied</th>\n      <th>winner</th>\n      <th>win_by_runs</th>\n      <th>win_by_wickets</th>\n      <th>player_of_match</th>\n      <th>venue</th>\n      <th>umpire1</th>\n      <th>umpire2</th>\n      <th>umpire3</th>\n    </tr>\n  </thead>\n  <tbody>\n    <tr>\n      <th>461</th>\n      <td>462</td>\n      <td>2014</td>\n      <td>NaN</td>\n      <td>19/04/14</td>\n      <td>Mumbai Indians</td>\n      <td>Royal Challengers Bangalore</td>\n      <td>Royal Challengers Bangalore</td>\n      <td>field</td>\n      <td>normal</td>\n      <td>0</td>\n      <td>Royal Challengers Bangalore</td>\n      <td>0</td>\n      <td>7</td>\n      <td>PA Patel</td>\n      <td>Dubai International Cricket Stadium</td>\n      <td>Aleem Dar</td>\n      <td>AK Chaudhary</td>\n      <td>NaN</td>\n    </tr>\n    <tr>\n      <th>462</th>\n      <td>463</td>\n      <td>2014</td>\n      <td>NaN</td>\n      <td>19/04/14</td>\n      <td>Kolkata Knight Riders</td>\n      <td>Delhi Daredevils</td>\n      <td>Kolkata Knight Riders</td>\n      <td>bat</td>\n      <td>normal</td>\n      <td>0</td>\n      <td>Delhi Daredevils</td>\n      <td>0</td>\n      <td>4</td>\n      <td>JP Duminy</td>\n      <td>Dubai International Cricket Stadium</td>\n      <td>Aleem Dar</td>\n      <td>VA Kulkarni</td>\n      <td>NaN</td>\n    </tr>\n    <tr>\n      <th>466</th>\n      <td>467</td>\n      <td>2014</td>\n      <td>NaN</td>\n      <td>23/04/14</td>\n      <td>Chennai Super Kings</td>\n      <td>Rajasthan Royals</td>\n      <td>Rajasthan Royals</td>\n      <td>field</td>\n      <td>normal</td>\n      <td>0</td>\n      <td>Chennai Super Kings</td>\n      <td>7</td>\n      <td>0</td>\n      <td>RA Jadeja</td>\n      <td>Dubai International Cricket Stadium</td>\n      <td>HDPK Dharmasena</td>\n      <td>RK Illingworth</td>\n      <td>NaN</td>\n    </tr>\n    <tr>\n      <th>468</th>\n      <td>469</td>\n      <td>2014</td>\n      <td>NaN</td>\n      <td>25/04/14</td>\n      <td>Sunrisers Hyderabad</td>\n      <td>Delhi Daredevils</td>\n      <td>Sunrisers Hyderabad</td>\n      <td>bat</td>\n      <td>normal</td>\n      <td>0</td>\n      <td>Sunrisers Hyderabad</td>\n      <td>4</td>\n      <td>0</td>\n      <td>AJ Finch</td>\n      <td>Dubai International Cricket Stadium</td>\n      <td>M Erasmus</td>\n      <td>S Ravi</td>\n      <td>NaN</td>\n    </tr>\n    <tr>\n      <th>469</th>\n      <td>470</td>\n      <td>2014</td>\n      <td>NaN</td>\n      <td>25/04/14</td>\n      <td>Mumbai Indians</td>\n      <td>Chennai Super Kings</td>\n      <td>Mumbai Indians</td>\n      <td>bat</td>\n      <td>normal</td>\n      <td>0</td>\n      <td>Chennai Super Kings</td>\n      <td>0</td>\n      <td>7</td>\n      <td>MM Sharma</td>\n      <td>Dubai International Cricket Stadium</td>\n      <td>BF Bowden</td>\n      <td>M Erasmus</td>\n      <td>NaN</td>\n    </tr>\n    <tr>\n      <th>474</th>\n      <td>475</td>\n      <td>2014</td>\n      <td>NaN</td>\n      <td>28/04/14</td>\n      <td>Royal Challengers Bangalore</td>\n      <td>Kings XI Punjab</td>\n      <td>Kings XI Punjab</td>\n      <td>field</td>\n      <td>normal</td>\n      <td>0</td>\n      <td>Kings XI Punjab</td>\n      <td>0</td>\n      <td>5</td>\n      <td>Sandeep Sharma</td>\n      <td>Dubai International Cricket Stadium</td>\n      <td>BF Bowden</td>\n      <td>S Ravi</td>\n      <td>NaN</td>\n    </tr>\n    <tr>\n      <th>476</th>\n      <td>477</td>\n      <td>2014</td>\n      <td>NaN</td>\n      <td>30/04/14</td>\n      <td>Sunrisers Hyderabad</td>\n      <td>Mumbai Indians</td>\n      <td>Mumbai Indians</td>\n      <td>field</td>\n      <td>normal</td>\n      <td>0</td>\n      <td>Sunrisers Hyderabad</td>\n      <td>15</td>\n      <td>0</td>\n      <td>B Kumar</td>\n      <td>Dubai International Cricket Stadium</td>\n      <td>HDPK Dharmasena</td>\n      <td>M Erasmus</td>\n      <td>NaN</td>\n    </tr>\n  </tbody>\n</table>\n</div>"
     },
     "metadata": {},
     "execution_count": 5
    }
   ],
   "source": [
    "data[data.city.isnull()]"
   ]
  },
  {
   "cell_type": "code",
   "execution_count": 6,
   "metadata": {},
   "outputs": [
    {
     "output_type": "execute_result",
     "data": {
      "text/plain": "0    620\n1     16\nName: dl_applied, dtype: int64"
     },
     "metadata": {},
     "execution_count": 6
    }
   ],
   "source": [
    "data.dl_applied.value_counts()"
   ]
  },
  {
   "cell_type": "markdown",
   "metadata": {},
   "source": [
    "## date correction"
   ]
  },
  {
   "cell_type": "code",
   "execution_count": 7,
   "metadata": {},
   "outputs": [
    {
     "output_type": "execute_result",
     "data": {
      "text/plain": "2"
     },
     "metadata": {},
     "execution_count": 7
    }
   ],
   "source": [
    "d = \"5/4/17\"\n",
    "(len(d.split(\"/\")[2]))"
   ]
  },
  {
   "cell_type": "code",
   "execution_count": 8,
   "metadata": {
    "tags": []
   },
   "outputs": [],
   "source": [
    "#correct('13/14/17')"
   ]
  },
  {
   "cell_type": "code",
   "execution_count": 9,
   "metadata": {},
   "outputs": [
    {
     "output_type": "execute_result",
     "data": {
      "text/plain": "'5/4/17'"
     },
     "metadata": {},
     "execution_count": 9
    }
   ],
   "source": [
    "g = d.split(\"/\")\n",
    "\"\".join(x+\"/\" for x in g)[:-1]"
   ]
  },
  {
   "cell_type": "code",
   "execution_count": 10,
   "metadata": {},
   "outputs": [],
   "source": [
    "def correct1(mdate):\n",
    "    sdate = str(mdate).split(\"/\")\n",
    "    fig = len(sdate[2])\n",
    "    if int(sdate[1])<12:\n",
    "        if fig == 2:\n",
    "            year = \"20\"+sdate[2]\n",
    "            mnth = str(sdate[1])\n",
    "            dte = str(sdate[0])\n",
    "            sdate = dte+\"/\"+mnth+\"/\"+year\n",
    "            return sdate\n",
    "        else:\n",
    "            return mdate\n",
    "    return mdate\n"
   ]
  },
  {
   "cell_type": "code",
   "execution_count": 11,
   "metadata": {
    "tags": []
   },
   "outputs": [],
   "source": [
    "data.date = data.date.apply(correct1)"
   ]
  },
  {
   "cell_type": "code",
   "execution_count": 12,
   "metadata": {},
   "outputs": [],
   "source": [
    "seasondb = []\n",
    "seasons = data.season.unique()\n",
    "for season in seasons:\n",
    "    seasondb.append(data[data.season==season])\n",
    "\n"
   ]
  },
  {
   "cell_type": "code",
   "execution_count": 13,
   "metadata": {
    "tags": []
   },
   "outputs": [
    {
     "output_type": "stream",
     "name": "stdout",
     "text": "Effect of temp was on 1 matches in 2017\nNumber of draws in 2017 season matches were 1 \nWinner of season 2017 was Mumbai Indians by winning 12 matches\nProbablity of winning match after winning toss is 0.42\nProbablity of losing match after winning toss is 0.58\nThe maximum number of matches are umpired by ['Nitin Menon' 'S Ravi']\nMax times player of match of season 2017 was NM Coulter-Nile\nEffect of temp was on 2 matches in 2008\nNumber of draws in 2008 season matches were 0 \nWinner of season 2008 was Rajasthan Royals by winning 13 matches\nProbablity of winning match after winning toss is 0.52\nProbablity of losing match after winning toss is 0.48\nThe maximum number of matches are umpired by ['BF Bowden' 'RE Koertzen']\nMax times player of match of season 2008 was SE Marsh\nEffect of temp was on 3 matches in 2009\nNumber of draws in 2009 season matches were 1 \nWinner of season 2009 was Delhi Daredevils by winning 10 matches\nProbablity of winning match after winning toss is 0.42\nProbablity of losing match after winning toss is 0.58\nThe maximum number of matches are umpired by ['BR Doctrove']\nMax times player of match of season 2009 was YK Pathan\nEffect of temp was on 0 matches in 2010\nNumber of draws in 2010 season matches were 1 \nWinner of season 2010 was Mumbai Indians by winning 11 matches\nProbablity of winning match after winning toss is 0.48\nProbablity of losing match after winning toss is 0.52\nThe maximum number of matches are umpired by ['RE Koertzen']\nMax times player of match of season 2010 was SR Tendulkar\nEffect of temp was on 3 matches in 2011\nNumber of draws in 2011 season matches were 1 \nWinner of season 2011 was Chennai Super Kings by winning 11 matches\nProbablity of winning match after winning toss is 0.48\nProbablity of losing match after winning toss is 0.52\nThe maximum number of matches are umpired by ['Asad Rauf']\nMax times player of match of season 2011 was CH Gayle\nEffect of temp was on 0 matches in 2012\nNumber of draws in 2012 season matches were 0 \nWinner of season 2012 was Kolkata Knight Riders by winning 12 matches\nProbablity of winning match after winning toss is 0.55\nProbablity of losing match after winning toss is 0.45\nThe maximum number of matches are umpired by ['BF Bowden']\nMax times player of match of season 2012 was CH Gayle\nEffect of temp was on 0 matches in 2013\nNumber of draws in 2013 season matches were 2 \nWinner of season 2013 was Mumbai Indians by winning 13 matches\nProbablity of winning match after winning toss is 0.53\nProbablity of losing match after winning toss is 0.47\nThe maximum number of matches are umpired by ['Asad Rauf' 'S Ravi']\nMax times player of match of season 2013 was MEK Hussey\nEffect of temp was on 1 matches in 2014\nNumber of draws in 2014 season matches were 1 \nWinner of season 2014 was Kings XI Punjab by winning 12 matches\nProbablity of winning match after winning toss is 0.5\nProbablity of losing match after winning toss is 0.5\nThe maximum number of matches are umpired by ['HDPK Dharmasena']\nMax times player of match of season 2014 was GJ Maxwell\nEffect of temp was on 2 matches in 2015\nNumber of draws in 2015 season matches were 3 \nWinner of season 2015 was Chennai Super Kings by winning 10 matches\nProbablity of winning match after winning toss is 0.53\nProbablity of losing match after winning toss is 0.47\nThe maximum number of matches are umpired by ['AK Chaudhary' 'RK Illingworth']\nMax times player of match of season 2015 was DA Warner\nEffect of temp was on 4 matches in 2016\nNumber of draws in 2016 season matches were 0 \nWinner of season 2016 was Sunrisers Hyderabad by winning 11 matches\nProbablity of winning match after winning toss is 0.43\nProbablity of losing match after winning toss is 0.57\nThe maximum number of matches are umpired by ['HDPK Dharmasena']\nMax times player of match of season 2016 was V Kohli\n"
    }
   ],
   "source": [
    "jsondb ={}\n",
    "for data_8 in seasondb:\n",
    "    season = data_8.season.unique()[0]\n",
    "    jsonobj = {}\n",
    "    try:\n",
    "        dl_meth = data_8.dl_applied.value_counts()[1]\n",
    "    except:\n",
    "        dl_meth = 0\n",
    "    try:\n",
    "        draw = data_8[data_8.result!=\"normal\"].shape[0]\n",
    "    except:\n",
    "        draw = 0\n",
    "    \n",
    "    win = data_8.winner.value_counts()\n",
    "    matches = win.max()\n",
    "    team = win[win==win.max()].index.values[0]\n",
    "    \n",
    "    prob_vec =  (data_8.toss_winner == data_8.winner).apply(lambda x: 0 if x  else 1)\n",
    "    prob_syn = prob_vec.value_counts()\n",
    "    p_win = prob_syn[1]/sum(prob_syn)\n",
    "    p_lose = prob_syn[0]/sum(prob_syn)\n",
    "\n",
    "    max_pom = data_8.player_of_match.value_counts()\n",
    "    max_pom = max_pom[max_pom==max_pom.max()].index.values[0]\n",
    "\n",
    "    A = (data_8.umpire1.value_counts())\n",
    "    B = (data_8.umpire2.value_counts())\n",
    "    C_index=[]\n",
    "    C_num=[]\n",
    "    C_index.extend(A.index.values)\n",
    "    C_index.extend(B.index.values)\n",
    "    C_num.extend(A.values)\n",
    "    C_num.extend(B.values)\n",
    "    umpire_dat = pd.DataFrame({\"UName\":C_index,\"matches\":C_num})\n",
    "    unames = umpire_dat.UName.unique()\n",
    "    dcount = []\n",
    "    for name in unames:\n",
    "        mcount = umpire_dat[umpire_dat.UName==name]\n",
    "        dcount.append(mcount.matches.values.sum())\n",
    "\n",
    "    unq_umpire_dat = pd.DataFrame({\"UName\":unames,\"matches\":dcount})\n",
    "    unq_umpire_dat = unq_umpire_dat.sort_values(\"matches\",ascending=False).reset_index(drop=True)\n",
    "    luname = unq_umpire_dat[unq_umpire_dat.matches == unq_umpire_dat.matches.max()].UName.values\n",
    "\n",
    "    jsonobj[\"temp\"] = str(dl_meth)\n",
    "    jsonobj[\"draw\"] = str(draw)\n",
    "    jsonobj[\"winner\"]={\"team\":str(team),\"matches\":str(matches)}\n",
    "    jsonobj[\"win_af_toss\"]={\"win\":str(round(p_win,2)),\"lose\":str(round(p_lose,2))}\n",
    "    jsonobj[\"max_umpired\"]=luname.tolist()\n",
    "    jsonobj[\"max_pom\"]=max_pom\n",
    "    \n",
    "\n",
    "    print(\"Effect of temp was on {} matches in {}\".format(dl_meth,season))\n",
    "    print(\"Number of draws in {} season matches were {} \".format(season,draw))\n",
    "    print(\"Winner of season {} was {} by winning {} matches\".format(season,team,matches))\n",
    "    print(\"Probablity of winning match after winning toss is {}\".format(round(p_win,2)))\n",
    "    print(\"Probablity of losing match after winning toss is {}\".format(round(p_lose,2))) \n",
    "    print(\"The maximum number of matches are umpired by {}\".format(luname))  \n",
    "    print(\"Max times player of match of season {} was {}\".format(season,max_pom))\n",
    "    jsondb[str(season)] = jsonobj"
   ]
  },
  {
   "cell_type": "code",
   "execution_count": 14,
   "metadata": {},
   "outputs": [
    {
     "output_type": "execute_result",
     "data": {
      "text/plain": "<function dict.keys>"
     },
     "metadata": {},
     "execution_count": 14
    }
   ],
   "source": [
    "jsondb.keys"
   ]
  },
  {
   "cell_type": "code",
   "execution_count": 15,
   "metadata": {},
   "outputs": [],
   "source": [
    "with open(\"season-high.json\",\"w\") as sfile:\n",
    "    json.dump({\"seasoninfo\":jsondb},sfile)"
   ]
  },
  {
   "cell_type": "code",
   "execution_count": 16,
   "metadata": {
    "tags": []
   },
   "outputs": [
    {
     "output_type": "execute_result",
     "data": {
      "text/plain": "      id  season        city        date                        team1  \\\n174  175    2010      Mumbai   12/3/2010        Kolkata Knight Riders   \n175  176    2010      Mumbai  13/03/2010               Mumbai Indians   \n176  177    2010  Chandigarh  13/03/2010              Kings XI Punjab   \n177  178    2010     Kolkata  14/03/2010  Royal Challengers Bangalore   \n178  179    2010     Chennai  14/03/2010              Deccan Chargers   \n\n                     team2            toss_winner toss_decision  result  \\\n174        Deccan Chargers        Deccan Chargers         field  normal   \n175       Rajasthan Royals         Mumbai Indians           bat  normal   \n176       Delhi Daredevils       Delhi Daredevils         field  normal   \n177  Kolkata Knight Riders  Kolkata Knight Riders         field  normal   \n178    Chennai Super Kings        Deccan Chargers           bat  normal   \n\n     dl_applied                 winner  win_by_runs  win_by_wickets  \\\n174           0  Kolkata Knight Riders           11               0   \n175           0         Mumbai Indians            4               0   \n176           0       Delhi Daredevils            0               5   \n177           0  Kolkata Knight Riders            0               7   \n178           0        Deccan Chargers           31               0   \n\n    player_of_match                                       venue  \\\n174      AD Mathews                  Dr DY Patil Sports Academy   \n175       YK Pathan                           Brabourne Stadium   \n176       G Gambhir  Punjab Cricket Association Stadium, Mohali   \n177       MK Tiwary                                Eden Gardens   \n178      WPUJC Vaas             MA Chidambaram Stadium, Chepauk   \n\n             umpire1    umpire2  umpire3  \n174      RE Koertzen  RB Tiffin      NaN  \n175      RE Koertzen  RB Tiffin      NaN  \n176      BR Doctrove     S Ravi      NaN  \n177  HDPK Dharmasena  AM Saheba      NaN  \n178      K Hariharan  DJ Harper      NaN  ",
      "text/html": "<div>\n<style scoped>\n    .dataframe tbody tr th:only-of-type {\n        vertical-align: middle;\n    }\n\n    .dataframe tbody tr th {\n        vertical-align: top;\n    }\n\n    .dataframe thead th {\n        text-align: right;\n    }\n</style>\n<table border=\"1\" class=\"dataframe\">\n  <thead>\n    <tr style=\"text-align: right;\">\n      <th></th>\n      <th>id</th>\n      <th>season</th>\n      <th>city</th>\n      <th>date</th>\n      <th>team1</th>\n      <th>team2</th>\n      <th>toss_winner</th>\n      <th>toss_decision</th>\n      <th>result</th>\n      <th>dl_applied</th>\n      <th>winner</th>\n      <th>win_by_runs</th>\n      <th>win_by_wickets</th>\n      <th>player_of_match</th>\n      <th>venue</th>\n      <th>umpire1</th>\n      <th>umpire2</th>\n      <th>umpire3</th>\n    </tr>\n  </thead>\n  <tbody>\n    <tr>\n      <th>174</th>\n      <td>175</td>\n      <td>2010</td>\n      <td>Mumbai</td>\n      <td>12/3/2010</td>\n      <td>Kolkata Knight Riders</td>\n      <td>Deccan Chargers</td>\n      <td>Deccan Chargers</td>\n      <td>field</td>\n      <td>normal</td>\n      <td>0</td>\n      <td>Kolkata Knight Riders</td>\n      <td>11</td>\n      <td>0</td>\n      <td>AD Mathews</td>\n      <td>Dr DY Patil Sports Academy</td>\n      <td>RE Koertzen</td>\n      <td>RB Tiffin</td>\n      <td>NaN</td>\n    </tr>\n    <tr>\n      <th>175</th>\n      <td>176</td>\n      <td>2010</td>\n      <td>Mumbai</td>\n      <td>13/03/2010</td>\n      <td>Mumbai Indians</td>\n      <td>Rajasthan Royals</td>\n      <td>Mumbai Indians</td>\n      <td>bat</td>\n      <td>normal</td>\n      <td>0</td>\n      <td>Mumbai Indians</td>\n      <td>4</td>\n      <td>0</td>\n      <td>YK Pathan</td>\n      <td>Brabourne Stadium</td>\n      <td>RE Koertzen</td>\n      <td>RB Tiffin</td>\n      <td>NaN</td>\n    </tr>\n    <tr>\n      <th>176</th>\n      <td>177</td>\n      <td>2010</td>\n      <td>Chandigarh</td>\n      <td>13/03/2010</td>\n      <td>Kings XI Punjab</td>\n      <td>Delhi Daredevils</td>\n      <td>Delhi Daredevils</td>\n      <td>field</td>\n      <td>normal</td>\n      <td>0</td>\n      <td>Delhi Daredevils</td>\n      <td>0</td>\n      <td>5</td>\n      <td>G Gambhir</td>\n      <td>Punjab Cricket Association Stadium, Mohali</td>\n      <td>BR Doctrove</td>\n      <td>S Ravi</td>\n      <td>NaN</td>\n    </tr>\n    <tr>\n      <th>177</th>\n      <td>178</td>\n      <td>2010</td>\n      <td>Kolkata</td>\n      <td>14/03/2010</td>\n      <td>Royal Challengers Bangalore</td>\n      <td>Kolkata Knight Riders</td>\n      <td>Kolkata Knight Riders</td>\n      <td>field</td>\n      <td>normal</td>\n      <td>0</td>\n      <td>Kolkata Knight Riders</td>\n      <td>0</td>\n      <td>7</td>\n      <td>MK Tiwary</td>\n      <td>Eden Gardens</td>\n      <td>HDPK Dharmasena</td>\n      <td>AM Saheba</td>\n      <td>NaN</td>\n    </tr>\n    <tr>\n      <th>178</th>\n      <td>179</td>\n      <td>2010</td>\n      <td>Chennai</td>\n      <td>14/03/2010</td>\n      <td>Deccan Chargers</td>\n      <td>Chennai Super Kings</td>\n      <td>Deccan Chargers</td>\n      <td>bat</td>\n      <td>normal</td>\n      <td>0</td>\n      <td>Deccan Chargers</td>\n      <td>31</td>\n      <td>0</td>\n      <td>WPUJC Vaas</td>\n      <td>MA Chidambaram Stadium, Chepauk</td>\n      <td>K Hariharan</td>\n      <td>DJ Harper</td>\n      <td>NaN</td>\n    </tr>\n  </tbody>\n</table>\n</div>"
     },
     "metadata": {},
     "execution_count": 16
    }
   ],
   "source": [
    "data_8 = data[data.season==2010]\n",
    "data_8.head()"
   ]
  },
  {
   "cell_type": "code",
   "execution_count": 17,
   "metadata": {},
   "outputs": [
    {
     "output_type": "execute_result",
     "data": {
      "text/plain": "0    60\nName: dl_applied, dtype: int64"
     },
     "metadata": {},
     "execution_count": 17
    }
   ],
   "source": [
    "data_8.dl_applied.value_counts()"
   ]
  },
  {
   "cell_type": "code",
   "execution_count": 19,
   "metadata": {},
   "outputs": [
    {
     "output_type": "execute_result",
     "data": {
      "text/plain": "1"
     },
     "metadata": {},
     "execution_count": 19
    }
   ],
   "source": [
    "data_8[data_8.result!=\"normal\"].shape[0]"
   ]
  },
  {
   "cell_type": "code",
   "execution_count": 20,
   "metadata": {},
   "outputs": [
    {
     "output_type": "execute_result",
     "data": {
      "text/plain": "      id  season       city        date                        team1  \\\n300  301    2011      Delhi  21/05/2011             Delhi Daredevils   \n545  546    2015  Bangalore  29/04/2015  Royal Challengers Bangalore   \n570  571    2015  Bangalore  17/05/2015             Delhi Daredevils   \n\n                           team2                  toss_winner toss_decision  \\\n300                Pune Warriors             Delhi Daredevils           bat   \n545             Rajasthan Royals             Rajasthan Royals         field   \n570  Royal Challengers Bangalore  Royal Challengers Bangalore         field   \n\n        result  dl_applied winner  win_by_runs  win_by_wickets  \\\n300  no result           0    NaN            0               0   \n545  no result           0    NaN            0               0   \n570  no result           0    NaN            0               0   \n\n    player_of_match                  venue          umpire1       umpire2  \\\n300             NaN       Feroz Shah Kotla        SS Hazare     RJ Tucker   \n545             NaN  M Chinnaswamy Stadium        JD Cloete     PG Pathak   \n570             NaN  M Chinnaswamy Stadium  HDPK Dharmasena  K Srinivasan   \n\n     umpire3  \n300      NaN  \n545      NaN  \n570      NaN  ",
      "text/html": "<div>\n<style scoped>\n    .dataframe tbody tr th:only-of-type {\n        vertical-align: middle;\n    }\n\n    .dataframe tbody tr th {\n        vertical-align: top;\n    }\n\n    .dataframe thead th {\n        text-align: right;\n    }\n</style>\n<table border=\"1\" class=\"dataframe\">\n  <thead>\n    <tr style=\"text-align: right;\">\n      <th></th>\n      <th>id</th>\n      <th>season</th>\n      <th>city</th>\n      <th>date</th>\n      <th>team1</th>\n      <th>team2</th>\n      <th>toss_winner</th>\n      <th>toss_decision</th>\n      <th>result</th>\n      <th>dl_applied</th>\n      <th>winner</th>\n      <th>win_by_runs</th>\n      <th>win_by_wickets</th>\n      <th>player_of_match</th>\n      <th>venue</th>\n      <th>umpire1</th>\n      <th>umpire2</th>\n      <th>umpire3</th>\n    </tr>\n  </thead>\n  <tbody>\n    <tr>\n      <th>300</th>\n      <td>301</td>\n      <td>2011</td>\n      <td>Delhi</td>\n      <td>21/05/2011</td>\n      <td>Delhi Daredevils</td>\n      <td>Pune Warriors</td>\n      <td>Delhi Daredevils</td>\n      <td>bat</td>\n      <td>no result</td>\n      <td>0</td>\n      <td>NaN</td>\n      <td>0</td>\n      <td>0</td>\n      <td>NaN</td>\n      <td>Feroz Shah Kotla</td>\n      <td>SS Hazare</td>\n      <td>RJ Tucker</td>\n      <td>NaN</td>\n    </tr>\n    <tr>\n      <th>545</th>\n      <td>546</td>\n      <td>2015</td>\n      <td>Bangalore</td>\n      <td>29/04/2015</td>\n      <td>Royal Challengers Bangalore</td>\n      <td>Rajasthan Royals</td>\n      <td>Rajasthan Royals</td>\n      <td>field</td>\n      <td>no result</td>\n      <td>0</td>\n      <td>NaN</td>\n      <td>0</td>\n      <td>0</td>\n      <td>NaN</td>\n      <td>M Chinnaswamy Stadium</td>\n      <td>JD Cloete</td>\n      <td>PG Pathak</td>\n      <td>NaN</td>\n    </tr>\n    <tr>\n      <th>570</th>\n      <td>571</td>\n      <td>2015</td>\n      <td>Bangalore</td>\n      <td>17/05/2015</td>\n      <td>Delhi Daredevils</td>\n      <td>Royal Challengers Bangalore</td>\n      <td>Royal Challengers Bangalore</td>\n      <td>field</td>\n      <td>no result</td>\n      <td>0</td>\n      <td>NaN</td>\n      <td>0</td>\n      <td>0</td>\n      <td>NaN</td>\n      <td>M Chinnaswamy Stadium</td>\n      <td>HDPK Dharmasena</td>\n      <td>K Srinivasan</td>\n      <td>NaN</td>\n    </tr>\n  </tbody>\n</table>\n</div>"
     },
     "metadata": {},
     "execution_count": 20
    }
   ],
   "source": [
    "data[data.winner.isnull()]"
   ]
  },
  {
   "cell_type": "code",
   "execution_count": 21,
   "metadata": {},
   "outputs": [
    {
     "output_type": "execute_result",
     "data": {
      "text/plain": "<pandas.core.groupby.generic.DataFrameGroupBy object at 0x0000024F7B6A1E88>"
     },
     "metadata": {},
     "execution_count": 21
    }
   ],
   "source": [
    "data.groupby('season')"
   ]
  },
  {
   "cell_type": "code",
   "execution_count": 22,
   "metadata": {
    "tags": []
   },
   "outputs": [
    {
     "output_type": "stream",
     "name": "stdout",
     "text": "['\"Chennai Super Kings\":131', '\"Deccan Chargers\":75', '\"Delhi Daredevils\":147', '\"Gujarat Lions\":30', '\"Kings XI Punjab\":148', '\"Kochi Tuskers Kerala\":14', '\"Kolkata Knight Riders\":148', '\"Mumbai Indians\":157', '\"Pune Warriors\":46', '\"Rajasthan Royals\":118', '\"Rising Pune Supergiant\":16', '\"Rising Pune Supergiants\":14', '\"Royal Challengers Bangalore\":152', '\"Sunrisers Hyderabad\":76'] ['\"Chennai Super Kings\":79', '\"Deccan Chargers\":29', '\"Delhi Daredevils\":62', '\"Gujarat Lions\":13', '\"Kings XI Punjab\":70', '\"Kochi Tuskers Kerala\":6', '\"Kolkata Knight Riders\":77', '\"Mumbai Indians\":92', '\"Pune Warriors\":12', '\"Rajasthan Royals\":63', '\"Rising Pune Supergiant\":10', '\"Rising Pune Supergiants\":5', '\"Royal Challengers Bangalore\":73', '\"Sunrisers Hyderabad\":42'] ['\"Chennai Super Kings\":52', '\"Deccan Chargers\":46', '\"Delhi Daredevils\":85', '\"Gujarat Lions\":17', '\"Kings XI Punjab\":78', '\"Kochi Tuskers Kerala\":8', '\"Kolkata Knight Riders\":71', '\"Mumbai Indians\":65', '\"Pune Warriors\":34', '\"Rajasthan Royals\":55', '\"Rising Pune Supergiant\":6', '\"Rising Pune Supergiants\":9', '\"Royal Challengers Bangalore\":79', '\"Sunrisers Hyderabad\":34']\n"
    }
   ],
   "source": [
    "d1 = data.groupby('team1').count().id\n",
    "d2 = data.groupby('team2').count().id\n",
    "d3 = data.groupby('winner').count().id\n",
    "d1=d1+d2\n",
    "d4=d1-d3\n",
    "\n",
    "d_total = d1.to_json(orient=\"index\").replace(\"{\",\"\").replace(\"}\",\"\").split(\",\")\n",
    "#d_total\n",
    "d_win = d3.to_json(orient=\"index\").replace(\"{\",\"\").replace(\"}\",\"\").split(\",\")\n",
    "#d_win\n",
    "d_loose = d4.to_json(orient=\"index\").replace(\"{\",\"\").replace(\"}\",\"\").split(\",\")\n",
    "#d_loose\n",
    "\n",
    "print(d_total, d_win, d_loose)\n",
    "\n",
    "\n",
    "\n",
    "\n",
    "\n"
   ]
  },
  {
   "cell_type": "code",
   "execution_count": 23,
   "metadata": {},
   "outputs": [],
   "source": [
    "j=[]\n",
    "for x,y,z in zip(d_win,d_total,d_loose):\n",
    "    obj={}\n",
    "    temp1= x.split(\":\")\n",
    "    temp2= y.split(\":\")\n",
    "    temp3= z.split(\":\")\n",
    "    obj['team'] = temp1[0].replace('\"','')\n",
    "    obj['matches'] = temp2[1]\n",
    "    obj['wins'] = temp1[1]\n",
    "    obj['lost'] = temp3[1]\n",
    "    j.append(obj)\n",
    "\n"
   ]
  },
  {
   "cell_type": "code",
   "execution_count": 24,
   "metadata": {
    "tags": []
   },
   "outputs": [
    {
     "output_type": "stream",
     "name": "stdout",
     "text": "[{'team': 'Chennai Super Kings', 'matches': '131', 'wins': '79', 'lost': '52'}, {'team': 'Deccan Chargers', 'matches': '75', 'wins': '29', 'lost': '46'}, {'team': 'Delhi Daredevils', 'matches': '147', 'wins': '62', 'lost': '85'}, {'team': 'Gujarat Lions', 'matches': '30', 'wins': '13', 'lost': '17'}, {'team': 'Kings XI Punjab', 'matches': '148', 'wins': '70', 'lost': '78'}, {'team': 'Kochi Tuskers Kerala', 'matches': '14', 'wins': '6', 'lost': '8'}, {'team': 'Kolkata Knight Riders', 'matches': '148', 'wins': '77', 'lost': '71'}, {'team': 'Mumbai Indians', 'matches': '157', 'wins': '92', 'lost': '65'}, {'team': 'Pune Warriors', 'matches': '46', 'wins': '12', 'lost': '34'}, {'team': 'Rajasthan Royals', 'matches': '118', 'wins': '63', 'lost': '55'}, {'team': 'Rising Pune Supergiant', 'matches': '16', 'wins': '10', 'lost': '6'}, {'team': 'Rising Pune Supergiants', 'matches': '14', 'wins': '5', 'lost': '9'}, {'team': 'Royal Challengers Bangalore', 'matches': '152', 'wins': '73', 'lost': '79'}, {'team': 'Sunrisers Hyderabad', 'matches': '76', 'wins': '42', 'lost': '34'}]\n"
    }
   ],
   "source": [
    "print(j)"
   ]
  },
  {
   "cell_type": "code",
   "execution_count": 25,
   "metadata": {},
   "outputs": [],
   "source": [
    "with open(\"team_card.json\",\"w\") as sfile:\n",
    "    json.dump({'stats': j},sfile)\n"
   ]
  },
  {
   "cell_type": "code",
   "execution_count": 26,
   "metadata": {},
   "outputs": [
    {
     "output_type": "execute_result",
     "data": {
      "text/plain": "venue\nBarabati Stadium                                         7\nBrabourne Stadium                                       11\nBuffalo Park                                             3\nDe Beers Diamond Oval                                    3\nDr DY Patil Sports Academy                              17\nDr. Y.S. Rajasekhara Reddy ACA-VDCA Cricket Stadium     11\nDubai International Cricket Stadium                      7\nEden Gardens                                            61\nFeroz Shah Kotla                                        60\nGreen Park                                               4\nHimachal Pradesh Cricket Association Stadium             9\nHolkar Cricket Stadium                                   5\nJSCA International Stadium Complex                       7\nKingsmead                                               15\nM Chinnaswamy Stadium                                   66\nMA Chidambaram Stadium, Chepauk                         48\nMaharashtra Cricket Association Stadium                 15\nNehru Stadium                                            5\nNew Wanderers Stadium                                    8\nNewlands                                                 7\nOUTsurance Oval                                          2\nPunjab Cricket Association IS Bindra Stadium, Mohali    11\nPunjab Cricket Association Stadium, Mohali              35\nRajiv Gandhi International Stadium, Uppal               49\nSardar Patel Stadium, Motera                            12\nSaurashtra Cricket Association Stadium                  10\nSawai Mansingh Stadium                                  33\nShaheed Veer Narayan Singh International Stadium         6\nSharjah Cricket Stadium                                  6\nSheikh Zayed Stadium                                     7\nSt George's Park                                         7\nSubrata Roy Sahara Stadium                              17\nSuperSport Park                                         12\nVidarbha Cricket Association Stadium, Jamtha             3\nWankhede Stadium                                        57\nName: id, dtype: int64"
     },
     "metadata": {},
     "execution_count": 26
    }
   ],
   "source": [
    "\n",
    "data.groupby('venue').count().id\n",
    "\n"
   ]
  },
  {
   "cell_type": "code",
   "execution_count": 27,
   "metadata": {
    "tags": []
   },
   "outputs": [
    {
     "output_type": "stream",
     "name": "stdout",
     "text": "Number of draws in 2010 season matches were 1 \n"
    }
   ],
   "source": [
    "print(\"Number of draws in {} season matches were {} \".format(data_8.season.unique()[0],data_8[data_8.result!=\"normal\"].shape[0]))"
   ]
  },
  {
   "cell_type": "code",
   "execution_count": 28,
   "metadata": {},
   "outputs": [],
   "source": [
    "win = data_8.winner.value_counts()\n",
    "matches = win.max()\n",
    "teams = win[win==win.max()].index.values"
   ]
  },
  {
   "cell_type": "code",
   "execution_count": 29,
   "metadata": {
    "tags": []
   },
   "outputs": [
    {
     "output_type": "stream",
     "name": "stdout",
     "text": "Winner of season 2010 was ['Mumbai Indians'] by winning 11 matches\n"
    }
   ],
   "source": [
    "print(\"Winner of season {} was {} by winning {} matches\".format(data_8.season.unique()[0],teams,matches))"
   ]
  },
  {
   "cell_type": "code",
   "execution_count": 30,
   "metadata": {},
   "outputs": [],
   "source": [
    "max_pom = data_8.player_of_match.value_counts()\n",
    "max_pom = max_pom[max_pom==max_pom.max()].index.values[0]"
   ]
  },
  {
   "cell_type": "code",
   "execution_count": 31,
   "metadata": {
    "tags": []
   },
   "outputs": [
    {
     "output_type": "stream",
     "name": "stdout",
     "text": "Max times player of match of season 2010 was SR Tendulkar\n"
    }
   ],
   "source": [
    "print(\"Max times player of match of season {} was {}\".format(data_8.season.unique()[0],max_pom))"
   ]
  },
  {
   "cell_type": "code",
   "execution_count": 32,
   "metadata": {},
   "outputs": [],
   "source": [
    "prob_vec =  (data_8.toss_winner == data_8.winner).apply(lambda x: 0 if x  else 1)\n",
    "prob_syn = prob_vec.value_counts()\n",
    "p_win = prob_syn[1]/sum(prob_syn)\n",
    "p_lose = prob_syn[0]/sum(prob_syn)"
   ]
  },
  {
   "cell_type": "code",
   "execution_count": 33,
   "metadata": {},
   "outputs": [
    {
     "output_type": "execute_result",
     "data": {
      "text/plain": "0    31\n1    29\ndtype: int64"
     },
     "metadata": {},
     "execution_count": 33
    }
   ],
   "source": [
    "prob_syn"
   ]
  },
  {
   "cell_type": "code",
   "execution_count": 34,
   "metadata": {
    "tags": []
   },
   "outputs": [
    {
     "output_type": "stream",
     "name": "stdout",
     "text": "Probablity of winning match after winning toss is 0.48\nProbablity of losing match after winning toss is 0.52\n"
    }
   ],
   "source": [
    "print(\"Probablity of winning match after winning toss is {}\".format(round(p_win,2)))\n",
    "print(\"Probablity of losing match after winning toss is {}\".format(round(p_lose,2)))"
   ]
  },
  {
   "cell_type": "code",
   "execution_count": 35,
   "metadata": {
    "tags": []
   },
   "outputs": [
    {
     "output_type": "stream",
     "name": "stdout",
     "text": "The player of the match is won by SR Tendulkar maximum number of times\n"
    }
   ],
   "source": [
    "print(\"The player of the match is won by {} maximum number of times\".format(data_8.player_of_match.value_counts().index.values[0]))"
   ]
  },
  {
   "cell_type": "code",
   "execution_count": 36,
   "metadata": {},
   "outputs": [],
   "source": [
    "A = (data_8.umpire1.value_counts())\n",
    "B = (data_8.umpire2.value_counts())"
   ]
  },
  {
   "cell_type": "code",
   "execution_count": 37,
   "metadata": {},
   "outputs": [],
   "source": [
    "C_index=[]\n",
    "C_num=[]\n",
    "C_index.extend(A.index.values)\n",
    "C_index.extend(B.index.values)\n",
    "C_num.extend(A.values)\n",
    "C_num.extend(B.values)"
   ]
  },
  {
   "cell_type": "code",
   "execution_count": 38,
   "metadata": {},
   "outputs": [
    {
     "output_type": "execute_result",
     "data": {
      "text/plain": "             UName  matches\n0      BR Doctrove       12\n1  HDPK Dharmasena        9\n2      RE Koertzen        8\n3        BF Bowden        7\n4       BG Jerling        6",
      "text/html": "<div>\n<style scoped>\n    .dataframe tbody tr th:only-of-type {\n        vertical-align: middle;\n    }\n\n    .dataframe tbody tr th {\n        vertical-align: top;\n    }\n\n    .dataframe thead th {\n        text-align: right;\n    }\n</style>\n<table border=\"1\" class=\"dataframe\">\n  <thead>\n    <tr style=\"text-align: right;\">\n      <th></th>\n      <th>UName</th>\n      <th>matches</th>\n    </tr>\n  </thead>\n  <tbody>\n    <tr>\n      <th>0</th>\n      <td>BR Doctrove</td>\n      <td>12</td>\n    </tr>\n    <tr>\n      <th>1</th>\n      <td>HDPK Dharmasena</td>\n      <td>9</td>\n    </tr>\n    <tr>\n      <th>2</th>\n      <td>RE Koertzen</td>\n      <td>8</td>\n    </tr>\n    <tr>\n      <th>3</th>\n      <td>BF Bowden</td>\n      <td>7</td>\n    </tr>\n    <tr>\n      <th>4</th>\n      <td>BG Jerling</td>\n      <td>6</td>\n    </tr>\n  </tbody>\n</table>\n</div>"
     },
     "metadata": {},
     "execution_count": 38
    }
   ],
   "source": [
    "umpire_dat = pd.DataFrame({\"UName\":C_index,\"matches\":C_num})\n",
    "umpire_dat.head()"
   ]
  },
  {
   "cell_type": "code",
   "execution_count": 39,
   "metadata": {
    "tags": []
   },
   "outputs": [
    {
     "output_type": "execute_result",
     "data": {
      "text/plain": "             UName  matches\n0      RE Koertzen       13\n1      BR Doctrove       12\n2       SJA Taufel       11\n3        DJ Harper       10\n4  HDPK Dharmasena        9",
      "text/html": "<div>\n<style scoped>\n    .dataframe tbody tr th:only-of-type {\n        vertical-align: middle;\n    }\n\n    .dataframe tbody tr th {\n        vertical-align: top;\n    }\n\n    .dataframe thead th {\n        text-align: right;\n    }\n</style>\n<table border=\"1\" class=\"dataframe\">\n  <thead>\n    <tr style=\"text-align: right;\">\n      <th></th>\n      <th>UName</th>\n      <th>matches</th>\n    </tr>\n  </thead>\n  <tbody>\n    <tr>\n      <th>0</th>\n      <td>RE Koertzen</td>\n      <td>13</td>\n    </tr>\n    <tr>\n      <th>1</th>\n      <td>BR Doctrove</td>\n      <td>12</td>\n    </tr>\n    <tr>\n      <th>2</th>\n      <td>SJA Taufel</td>\n      <td>11</td>\n    </tr>\n    <tr>\n      <th>3</th>\n      <td>DJ Harper</td>\n      <td>10</td>\n    </tr>\n    <tr>\n      <th>4</th>\n      <td>HDPK Dharmasena</td>\n      <td>9</td>\n    </tr>\n  </tbody>\n</table>\n</div>"
     },
     "metadata": {},
     "execution_count": 39
    }
   ],
   "source": [
    "unames = umpire_dat.UName.unique()\n",
    "dcount = []\n",
    "for name in unames:\n",
    "    mcount = umpire_dat[umpire_dat.UName==name]\n",
    "    dcount.append(mcount.matches.values.sum())\n",
    "\n",
    "unq_umpire_dat = pd.DataFrame({\"UName\":unames,\"matches\":dcount})\n",
    "unq_umpire_dat = unq_umpire_dat.sort_values(\"matches\",ascending=False).reset_index(drop=True)\n",
    "unq_umpire_dat.head()"
   ]
  },
  {
   "cell_type": "code",
   "execution_count": 40,
   "metadata": {},
   "outputs": [
    {
     "output_type": "execute_result",
     "data": {
      "text/plain": "'RE Koertzen, '"
     },
     "metadata": {},
     "execution_count": 40
    }
   ],
   "source": [
    "luname = unq_umpire_dat[unq_umpire_dat.matches == unq_umpire_dat.matches.max()].UName.values\n",
    "\"\".join(x+\", \" for x in luname)"
   ]
  },
  {
   "cell_type": "code",
   "execution_count": 41,
   "metadata": {
    "tags": []
   },
   "outputs": [
    {
     "output_type": "stream",
     "name": "stdout",
     "text": "The maximum number of matches are umpired by ['RE Koertzen']\n"
    }
   ],
   "source": [
    "print(\"The maximum number of matches are umpired by {}\".format(luname))"
   ]
  },
  {
   "cell_type": "code",
   "execution_count": 42,
   "metadata": {
    "tags": []
   },
   "outputs": [
    {
     "output_type": "execute_result",
     "data": {
      "text/plain": "{3, 4, 5, 6}"
     },
     "metadata": {},
     "execution_count": 42
    }
   ],
   "source": [
    "p=[]\n",
    "q=[]\n",
    "for x in data.date.unique():\n",
    "    p.append(int(x.split(\"/\")[0]))\n",
    "    d = int(x.split(\"/\")[1])\n",
    "    if d>12:\n",
    "        print(x)\n",
    "    q.append(d)\n",
    "set(q)"
   ]
  },
  {
   "cell_type": "code",
   "execution_count": 43,
   "metadata": {},
   "outputs": [],
   "source": [
    "db ={}\n",
    "for x in data.date.values:\n",
    "    d = x.split(\"/\")[0]\n",
    "    h = []\n",
    "    try:\n",
    "        f = db[d]\n",
    "        f.append(x)\n",
    "        db[d] = f\n",
    "    except:\n",
    "        h.append(x)\n",
    "        db[d] = h"
   ]
  },
  {
   "cell_type": "code",
   "execution_count": 44,
   "metadata": {},
   "outputs": [],
   "source": [
    "with open(\"getdate.json\",\"w\") as sfile:\n",
    "    json.dump({\"datedb\":db},sfile)"
   ]
  },
  {
   "cell_type": "code",
   "execution_count": 45,
   "metadata": {},
   "outputs": [],
   "source": [
    "ndata = pd.DataFrame([data.date.values,data.team1.values,data.team2.values,data.winner.values]).transpose()"
   ]
  },
  {
   "cell_type": "code",
   "execution_count": 46,
   "metadata": {},
   "outputs": [],
   "source": [
    "ndata.columns=[\"date\",\"team1\",\"team2\",\"winner\"]"
   ]
  },
  {
   "cell_type": "code",
   "execution_count": 47,
   "metadata": {},
   "outputs": [
    {
     "output_type": "execute_result",
     "data": {
      "text/plain": "(636, 4)"
     },
     "metadata": {},
     "execution_count": 47
    }
   ],
   "source": [
    "ndata.shape"
   ]
  },
  {
   "cell_type": "code",
   "execution_count": 48,
   "metadata": {},
   "outputs": [
    {
     "output_type": "execute_result",
     "data": {
      "text/plain": "(450, 4)"
     },
     "metadata": {},
     "execution_count": 48
    }
   ],
   "source": [
    "ndata = ndata.drop_duplicates([\"date\"])\n",
    "ndata.shape"
   ]
  },
  {
   "cell_type": "code",
   "execution_count": 49,
   "metadata": {},
   "outputs": [
    {
     "output_type": "execute_result",
     "data": {
      "text/plain": "       date                   team1                        team2  \\\n0  5/4/2017     Sunrisers Hyderabad  Royal Challengers Bangalore   \n1  6/4/2017          Mumbai Indians       Rising Pune Supergiant   \n2  7/4/2017           Gujarat Lions        Kolkata Knight Riders   \n3  8/4/2017  Rising Pune Supergiant              Kings XI Punjab   \n5  9/4/2017           Gujarat Lions          Sunrisers Hyderabad   \n\n                   winner  \n0     Sunrisers Hyderabad  \n1  Rising Pune Supergiant  \n2   Kolkata Knight Riders  \n3         Kings XI Punjab  \n5     Sunrisers Hyderabad  ",
      "text/html": "<div>\n<style scoped>\n    .dataframe tbody tr th:only-of-type {\n        vertical-align: middle;\n    }\n\n    .dataframe tbody tr th {\n        vertical-align: top;\n    }\n\n    .dataframe thead th {\n        text-align: right;\n    }\n</style>\n<table border=\"1\" class=\"dataframe\">\n  <thead>\n    <tr style=\"text-align: right;\">\n      <th></th>\n      <th>date</th>\n      <th>team1</th>\n      <th>team2</th>\n      <th>winner</th>\n    </tr>\n  </thead>\n  <tbody>\n    <tr>\n      <th>0</th>\n      <td>5/4/2017</td>\n      <td>Sunrisers Hyderabad</td>\n      <td>Royal Challengers Bangalore</td>\n      <td>Sunrisers Hyderabad</td>\n    </tr>\n    <tr>\n      <th>1</th>\n      <td>6/4/2017</td>\n      <td>Mumbai Indians</td>\n      <td>Rising Pune Supergiant</td>\n      <td>Rising Pune Supergiant</td>\n    </tr>\n    <tr>\n      <th>2</th>\n      <td>7/4/2017</td>\n      <td>Gujarat Lions</td>\n      <td>Kolkata Knight Riders</td>\n      <td>Kolkata Knight Riders</td>\n    </tr>\n    <tr>\n      <th>3</th>\n      <td>8/4/2017</td>\n      <td>Rising Pune Supergiant</td>\n      <td>Kings XI Punjab</td>\n      <td>Kings XI Punjab</td>\n    </tr>\n    <tr>\n      <th>5</th>\n      <td>9/4/2017</td>\n      <td>Gujarat Lions</td>\n      <td>Sunrisers Hyderabad</td>\n      <td>Sunrisers Hyderabad</td>\n    </tr>\n  </tbody>\n</table>\n</div>"
     },
     "metadata": {},
     "execution_count": 49
    }
   ],
   "source": [
    "ndata.head()"
   ]
  },
  {
   "cell_type": "code",
   "execution_count": 50,
   "metadata": {},
   "outputs": [
    {
     "output_type": "execute_result",
     "data": {
      "text/plain": "'29/05/2016'"
     },
     "metadata": {},
     "execution_count": 50
    }
   ],
   "source": [
    "x"
   ]
  },
  {
   "cell_type": "code",
   "execution_count": 51,
   "metadata": {},
   "outputs": [],
   "source": [
    "teamdb={}\n",
    "for x in ndata.values:\n",
    "    teamdb[x[0]]={\"team1\":x[1],\"team2\":x[2],\"winner\":x[3],}"
   ]
  },
  {
   "cell_type": "code",
   "execution_count": 52,
   "metadata": {},
   "outputs": [],
   "source": [
    "with open(\"gethistory.json\",\"w\") as sfile:\n",
    "    json.dump({\"histdb\":teamdb},sfile)"
   ]
  }
 ]
}